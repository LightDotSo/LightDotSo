{
 "cells": [
  {
   "cell_type": "code",
   "execution_count": 28,
   "id": "ab8927e7-622a-4a12-a1a9-ff3cc86d56be",
   "metadata": {},
   "outputs": [],
   "source": [
    "from dotenv import load_dotenv\n",
    "import os\n",
    "\n",
    "# load environment variables\n",
    "load_dotenv()\n",
    "\n",
    "ANYSCALE_API_KEY = os.getenv(\"ANYSCALE_API_KEY\")\n",
    "LANGCHAIN_TRACING_V2 = os.getenv(\"LANGCHAIN_TRACING_V2\")\n",
    "LANGCHAIN_ENDPOINT = os.getenv(\"LANGCHAIN_ENDPOINT\")\n",
    "LANGCHAIN_API_KEY = os.getenv(\"LANGCHAIN_API_KEY\")\n",
    "LANGCHAIN_PROJECT = os.getenv(\"LANGCHAIN_PROJECT\")"
   ]
  },
  {
   "cell_type": "code",
   "execution_count": 29,
   "id": "643b11a3-359f-447e-80fd-0d2f82160685",
   "metadata": {},
   "outputs": [
    {
     "data": {
      "text/plain": [
       "AIMessage(content=\"  Hello there! It's nice to meet you. Welcome to the wonderful world of chatbots! Is there something I can help you with or would you like to chat about something in particular?\")"
      ]
     },
     "execution_count": 29,
     "metadata": {},
     "output_type": "execute_result"
    }
   ],
   "source": [
    "from langchain.chat_models import ChatAnyscale\n",
    "\n",
    "llm = ChatAnyscale()\n",
    "llm.invoke(\"Hello, world!\")"
   ]
  },
  {
   "cell_type": "code",
   "execution_count": 30,
   "id": "42602668-ce60-4e17-ae16-7fa3e110b71e",
   "metadata": {},
   "outputs": [],
   "source": [
    "from langsmith import Client\n",
    "\n",
    "client = Client()"
   ]
  },
  {
   "cell_type": "code",
   "execution_count": 31,
   "id": "3731eb1e",
   "metadata": {
    "slideshow": {
     "slide_type": "fragment"
    }
   },
   "outputs": [
    {
     "data": {
      "text/plain": [
       "6"
      ]
     },
     "execution_count": 31,
     "metadata": {},
     "output_type": "execute_result"
    }
   ],
   "source": [
    "import datetime\n",
    "\n",
    "project_name = \"Light"\n",
    "run_type = \"llm\"\n",
    "end_time = datetime.datetime.now()\n",
    "\n",
    "runs = client.list_runs(\n",
    "    project_name=project_name,\n",
    "    run_type=run_type,\n",
    "    error=False,\n",
    ")\n",
    "len(list(runs))"
   ]
  },
  {
   "cell_type": "code",
   "execution_count": 32,
   "id": "b7a974cc",
   "metadata": {},
   "outputs": [
    {
     "name": "stdout",
     "output_type": "stream",
     "text": [
      "{'input': [{'data': {'content': 'How you do'}, 'type': 'human'}, {'data': {'content': \"What's up\"}, 'type': 'system'}], 'functions': []}\n"
     ]
    }
   ],
   "source": [
    "# From: https://github.com/langchain-ai/langsmith-cookbook/blob/main/fine-tuning-examples/export-to-openai/fine-tuning-on-chat-runs.ipynb\n",
    "\n",
    "from langsmith import schemas\n",
    "from langchain import load\n",
    "\n",
    "\n",
    "def convert_messages(example: schemas.Example) -> dict:\n",
    "    print(example.inputs)\n",
    "    messages = load.load(example.inputs)\n",
    "    return {\"messages\": messages}\n",
    "\n",
    "\n",
    "messages = [\n",
    "    convert_messages(example)\n",
    "    for example in client.list_examples(dataset_name=\"Fine-Tuning Dataset Example\")\n",
    "]"
   ]
  },
  {
   "cell_type": "code",
   "execution_count": 33,
   "id": "ee5e825a",
   "metadata": {},
   "outputs": [],
   "source": [
    "# From: https://github.com/langchain-ai/langsmith-cookbook/blob/main/fine-tuning-examples/export-to-openai/fine-tuning-on-chat-runs.ipynb\n",
    "\n",
    "from langchain.adapters import openai as openai_adapter\n",
    "\n",
    "finetuning_messages = openai_adapter.convert_messages_for_finetuning(messages)"
   ]
  },
  {
   "cell_type": "code",
   "execution_count": 44,
   "id": "67bef0f9",
   "metadata": {},
   "outputs": [
    {
     "name": "stdout",
     "output_type": "stream",
     "text": [
      "Status=[FileObject(id='file_3lgxnssls9y73grbk229yqay99', bytes=8760, created_at='2024-01-09T04:36:47.926810+00:00', filename='upload', object=None, purpose=None, status=None, status_details=None)]... 10.53s\r"
     ]
    },
    {
     "ename": "KeyboardInterrupt",
     "evalue": "",
     "output_type": "error",
     "traceback": [
      "\u001b[0;31m---------------------------------------------------------------------------\u001b[0m",
      "\u001b[0;31mKeyboardInterrupt\u001b[0m                         Traceback (most recent call last)",
      "Cell \u001b[0;32mIn[44], line 31\u001b[0m\n\u001b[1;32m     29\u001b[0m start_time \u001b[38;5;241m=\u001b[39m time\u001b[38;5;241m.\u001b[39mtime()\n\u001b[1;32m     30\u001b[0m \u001b[38;5;28;01mwhile\u001b[39;00m status \u001b[38;5;241m!=\u001b[39m \u001b[38;5;124m\"\u001b[39m\u001b[38;5;124mprocessed\u001b[39m\u001b[38;5;124m\"\u001b[39m:\n\u001b[0;32m---> 31\u001b[0m     \u001b[43mtime\u001b[49m\u001b[38;5;241;43m.\u001b[39;49m\u001b[43msleep\u001b[49m\u001b[43m(\u001b[49m\u001b[38;5;241;43m5\u001b[39;49m\u001b[43m)\u001b[49m\n\u001b[1;32m     32\u001b[0m     status \u001b[38;5;241m=\u001b[39m client\u001b[38;5;241m.\u001b[39mfiles\u001b[38;5;241m.\u001b[39mretrieve(training_file\u001b[38;5;241m.\u001b[39mid)\n\u001b[1;32m     33\u001b[0m     \u001b[38;5;28mprint\u001b[39m(\u001b[38;5;124mf\u001b[39m\u001b[38;5;124m\"\u001b[39m\u001b[38;5;124mStatus=[\u001b[39m\u001b[38;5;132;01m{\u001b[39;00mstatus\u001b[38;5;132;01m}\u001b[39;00m\u001b[38;5;124m]... \u001b[39m\u001b[38;5;132;01m{\u001b[39;00mtime\u001b[38;5;241m.\u001b[39mtime()\u001b[38;5;250m \u001b[39m\u001b[38;5;241m-\u001b[39m\u001b[38;5;250m \u001b[39mstart_time\u001b[38;5;132;01m:\u001b[39;00m\u001b[38;5;124m.2f\u001b[39m\u001b[38;5;132;01m}\u001b[39;00m\u001b[38;5;124ms\u001b[39m\u001b[38;5;124m\"\u001b[39m, end\u001b[38;5;241m=\u001b[39m\u001b[38;5;124m\"\u001b[39m\u001b[38;5;130;01m\\r\u001b[39;00m\u001b[38;5;124m\"\u001b[39m, flush\u001b[38;5;241m=\u001b[39m\u001b[38;5;28;01mTrue\u001b[39;00m)\n",
      "\u001b[0;31mKeyboardInterrupt\u001b[0m: "
     ]
    }
   ],
   "source": [
    "import time\n",
    "import json\n",
    "import io\n",
    "\n",
    "import openai\n",
    "\n",
    "client = openai.OpenAI(\n",
    "    base_url=\"https://api.endpoints.anyscale.com/v1\", api_key=ANYSCALE_API_KEY\n",
    ")\n",
    "\n",
    "my_file = io.BytesIO()\n",
    "for _ in range(30):\n",
    "    my_file.write(\n",
    "        (\n",
    "            json.dumps(\n",
    "                {\n",
    "                    \"messages\": [\n",
    "                        {\"role\": \"system\", \"content\": \"You are a helpful assistant\"},\n",
    "                        {\"role\": \"user\", \"content\": \"Hi\"},\n",
    "                        {\"role\": \"assistant\", \"content\": \"Hello, How can I help you?\"},\n",
    "                        {\"role\": \"user\", \"content\": \"How is the weather today?\"},\n",
    "                        {\"role\": \"assistant\", \"content\": \"get_weather_status()\"},\n",
    "                    ]\n",
    "                }\n",
    "            )\n",
    "            + \"\\n\"\n",
    "        ).encode(\"utf-8\")\n",
    "    )\n",
    "\n",
    "my_file.seek(0)\n",
    "training_file = client.files.create(file=my_file, purpose=\"fine-tune\")\n",
    "\n",
    "# Wait while the file is processed\n",
    "status = client.files.retrieve(training_file.id).status\n",
    "start_time = time.time()\n",
    "while status != \"processed\":\n",
    "    time.sleep(5)\n",
    "    status = client.files.retrieve(training_file.id)\n",
    "    print(f\"Status=[{status}]... {time.time() - start_time:.2f}s\", end=\"\\r\", flush=True)\n",
    "print(f\"File {training_file.id} ready after {time.time() - start_time:.2f} seconds.\")"
   ]
  },
  {
   "cell_type": "code",
   "execution_count": 45,
   "id": "a689ab87",
   "metadata": {},
   "outputs": [],
   "source": [
    "job = client.fine_tuning.jobs.create(\n",
    "    training_file=\"file_3lgxnssls9y73grbk229yqay99\",\n",
    "    model=\"meta-llama/Llama-2-70b-chat-hf\",\n",
    ")"
   ]
  },
  {
   "cell_type": "code",
   "execution_count": null,
   "id": "f0471946",
   "metadata": {},
   "outputs": [],
   "source": []
  }
 ],
 "metadata": {
  "kernelspec": {
   "display_name": "Python 3 (ipykernel)",
   "language": "python",
   "name": "python3"
  },
  "language_info": {
   "codemirror_mode": {
    "name": "ipython",
    "version": 3
   },
   "file_extension": ".py",
   "mimetype": "text/x-python",
   "name": "python",
   "nbconvert_exporter": "python",
   "pygments_lexer": "ipython3",
   "version": "3.11.3"
  }
 },
 "nbformat": 4,
 "nbformat_minor": 5
}
